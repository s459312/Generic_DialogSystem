{
 "cells": [
  {
   "cell_type": "code",
   "execution_count": 48,
   "metadata": {},
   "outputs": [],
   "source": [
    "import json\n",
    "import os\n",
    "\n",
    "\n",
    "class DST():\n",
    "    def __init__(self):\n",
    "        self.state = json.load(open('dictionary.json'))\n",
    "\n",
    "    def update(self, user_act=None):\n",
    "        for intent, domain, slot, value in user_act:\n",
    "            domain = domain.lower()\n",
    "            intent = intent.lower()\n",
    "            slot = slot.lower()\n",
    "            \n",
    "            if domain not in self.state['belief_state']:\n",
    "                continue\n",
    "\n",
    "            if intent == 'inform':\n",
    "                if slot == 'none' or slot == '':\n",
    "                    continue\n",
    "\n",
    "                domain_dic = self.state['belief_state'][domain]\n",
    "\n",
    "                if slot in domain_dic:\n",
    "                    self.state['belief_state'][domain][slot] = value\n",
    "\n",
    "            elif intent == 'request':\n",
    "                if domain not in self.state['request_state']:\n",
    "                    self.state['request_state'][domain] = {}\n",
    "                if slot not in self.state['request_state'][domain]:\n",
    "                    self.state['request_state'][domain][slot] = 0\n",
    "                    \n",
    "        self.state['user_act'] = user_act\n",
    "        return self.state\n",
    "    def init_session(self):\n",
    "            self.state = json.load(open('dictionary.json'))"
   ]
  },
  {
   "cell_type": "code",
   "execution_count": 49,
   "metadata": {},
   "outputs": [],
   "source": [
    "dst = DST()\n",
    "user_act = [('inform', 'payment', 'type', 'karta'),  ('inform', 'delivery', 'type','paczkomat'), ('inform', 'product', 'type', 'telefon'), ('request', 'product', 'type', '?')]\n",
    "state = dst.update(user_act)"
   ]
  },
  {
   "cell_type": "code",
   "execution_count": 50,
   "metadata": {},
   "outputs": [
    {
     "name": "stdout",
     "output_type": "stream",
     "text": [
      "{'payment': {'type': 'karta', 'amount': '', 'loyalty_card': ''}, 'delivery': {'type': 'paczkomat', 'address': '', 'time': ''}, 'product': {'name': '', 'type': 'telefon', 'brand': '', 'price_range': '', 'price': '', 'quantity': '', 'quality': ''}}\n",
      "{'product': {'type': 0}}\n"
     ]
    },
    {
     "data": {
      "text/plain": [
       "{'user_act': [('inform', 'payment', 'type', 'karta'),\n",
       "  ('inform', 'delivery', 'type', 'paczkomat'),\n",
       "  ('inform', 'product', 'type', 'telefon'),\n",
       "  ('request', 'product', 'type', '?')],\n",
       " 'system_act': [],\n",
       " 'belief_state': {'payment': {'type': 'karta',\n",
       "   'amount': '',\n",
       "   'loyalty_card': ''},\n",
       "  'delivery': {'type': 'paczkomat', 'address': '', 'time': ''},\n",
       "  'product': {'name': '',\n",
       "   'type': 'telefon',\n",
       "   'brand': '',\n",
       "   'price_range': '',\n",
       "   'price': '',\n",
       "   'quantity': '',\n",
       "   'quality': ''}},\n",
       " 'request_state': {'product': {'type': 0}},\n",
       " 'terminated': False,\n",
       " 'history': []}"
      ]
     },
     "execution_count": 50,
     "metadata": {},
     "output_type": "execute_result"
    }
   ],
   "source": [
    "print(state['belief_state'])\n",
    "print(state['request_state'])\n",
    "dst.state"
   ]
  },
  {
   "cell_type": "code",
   "execution_count": 51,
   "metadata": {},
   "outputs": [],
   "source": [
    "from collections import defaultdict\n",
    "from convlab.policy.policy import Policy\n",
    "import json\n",
    "\n",
    "class SimpleRulePolicy(Policy):\n",
    "    def __init__(self):\n",
    "        Policy.__init__(self)\n",
    "        self.db = json.load(open('product_db.json'))\n",
    "\n",
    "    def predict(self, state):\n",
    "        self.results = []\n",
    "        system_action = defaultdict(list)\n",
    "        user_action = defaultdict(list)\n",
    "        system_acts = []\n",
    "        for intent, domain, slot, value in state['user_act']:\n",
    "            user_action[(domain.lower(), intent.lower())].append((slot.lower(), value))\n",
    "        for user_act in user_action:\n",
    "            self.update_system_action(user_act, user_action, state, system_action)\n",
    "        system_acts = [[intent, domain, slot, value] for (domain, intent), slots in system_action.items() for slot, value in slots]\n",
    "        state['system_act'] = system_acts\n",
    "        return system_acts\n",
    "\n",
    "\n",
    "    def update_system_action(self, user_act, user_action, state, system_action):\n",
    "        domain, intent = user_act\n",
    "        constraints = [(slot, value) for slot, value in state['belief_state'][domain.lower()].items() if value != '']\n",
    "        self.results = self.db['database'][domain]\n",
    "\n",
    "        # Reguła 1\n",
    "        if intent == 'request':\n",
    "            if len(self.results) == 0:\n",
    "                system_action[(domain, 'NoOffer')] = []\n",
    "            else:\n",
    "                for slot in user_action[user_act]:\n",
    "                    if self.results and slot[0] in self.results[0]:\n",
    "                        system_action[(domain, 'Inform')].append([slot[0], self.results[0].get(slot[0], 'unknown')])\n",
    "\n",
    "        # Reguła 2\n",
    "        elif intent == 'inform':\n",
    "            if len(self.results) == 0:\n",
    "                system_action[(domain, 'NoOffer')] = []\n",
    "            else:\n",
    "                system_action[(domain, 'Inform')].append(['Choice', str(len(self.results))])\n",
    "                for product in self.results:\n",
    "                    if all(product.get(slot, '').lower() == value.lower() for slot, value in constraints):\n",
    "                        system_action[(domain, 'Recommend')].append(['Name', product['name']])\n",
    "                        break\n",
    "\n"
   ]
  },
  {
   "cell_type": "code",
   "execution_count": 52,
   "metadata": {},
   "outputs": [
    {
     "data": {
      "text/plain": [
       "[['Inform', 'product', 'Choice', '11'],\n",
       " ['Recommend', 'product', 'Name', 'RedBull']]"
      ]
     },
     "execution_count": 52,
     "metadata": {},
     "output_type": "execute_result"
    }
   ],
   "source": [
    "dst = DST()\n",
    "user_act = [('inform', 'product', 'type', 'energol')]\n",
    "state = dst.update(user_act)\n",
    "policy = SimpleRulePolicy()\n",
    "policy.predict(state)"
   ]
  },
  {
   "cell_type": "code",
   "execution_count": 53,
   "metadata": {},
   "outputs": [
    {
     "name": "stderr",
     "output_type": "stream",
     "text": [
      "WARNING:root:nlu info_dict is not initialized\n",
      "WARNING:root:dst info_dict is not initialized\n",
      "WARNING:root:policy info_dict is not initialized\n",
      "WARNING:root:nlg info_dict is not initialized\n"
     ]
    }
   ],
   "source": [
    "from convlab.dialog_agent import PipelineAgent\n",
    "policy = SimpleRulePolicy()\n",
    "agent = PipelineAgent(nlu=None, dst=dst, policy=policy, nlg=None, name='sys')"
   ]
  },
  {
   "cell_type": "code",
   "execution_count": 54,
   "metadata": {},
   "outputs": [
    {
     "data": {
      "text/plain": [
       "[['Inform', 'product', 'Choice', '11'],\n",
       " ['Recommend', 'product', 'Name', 'pomidor']]"
      ]
     },
     "execution_count": 54,
     "metadata": {},
     "output_type": "execute_result"
    }
   ],
   "source": [
    "agent.response([('inform', 'product', 'type', 'warzywo'), ('inform', 'product', 'price_range', 'tani'), ('inform', 'product', 'quality', 'exquisite')])"
   ]
  },
  {
   "cell_type": "code",
   "execution_count": 55,
   "metadata": {},
   "outputs": [
    {
     "data": {
      "text/plain": [
       "[['Inform', 'product', 'Choice', '11'],\n",
       " ['Recommend', 'product', 'Name', 'Sok pomarańczowy']]"
      ]
     },
     "execution_count": 55,
     "metadata": {},
     "output_type": "execute_result"
    }
   ],
   "source": [
    "agent.response([('inform', 'product', 'type', 'napój'), ('inform', 'product', 'price_range', 'drogi'), ('inform', 'product', 'quality', 'exquisite')])"
   ]
  },
  {
   "cell_type": "code",
   "execution_count": 56,
   "metadata": {},
   "outputs": [
    {
     "data": {
      "text/plain": [
       "[['Inform', 'product', 'Choice', '11'],\n",
       " ['Recommend', 'product', 'Name', 'banan']]"
      ]
     },
     "execution_count": 56,
     "metadata": {},
     "output_type": "execute_result"
    }
   ],
   "source": [
    "agent.response([('inform', 'product', 'type', 'owoc'), ('inform', 'product', 'price_range', 'tani'), ('inform', 'product', 'quality', 'exquisite')])"
   ]
  }
 ],
 "metadata": {
  "kernelspec": {
   "display_name": "py38",
   "language": "python",
   "name": "python3"
  },
  "language_info": {
   "codemirror_mode": {
    "name": "ipython",
    "version": 3
   },
   "file_extension": ".py",
   "mimetype": "text/x-python",
   "name": "python",
   "nbconvert_exporter": "python",
   "pygments_lexer": "ipython3",
   "version": "3.8.16"
  },
  "orig_nbformat": 4
 },
 "nbformat": 4,
 "nbformat_minor": 2
}
